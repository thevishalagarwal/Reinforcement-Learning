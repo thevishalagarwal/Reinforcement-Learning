{
 "cells": [
  {
   "cell_type": "code",
   "execution_count": 1,
   "metadata": {
    "collapsed": true,
    "deletable": true,
    "editable": true
   },
   "outputs": [],
   "source": [
    "import numpy as np\n",
    "import pandas as pd\n",
    "from matplotlib import pyplot as plt\n",
    "import seaborn as sns\n",
    "sns.set()\n",
    "%matplotlib inline"
   ]
  },
  {
   "cell_type": "code",
   "execution_count": 2,
   "metadata": {
    "collapsed": true,
    "deletable": true,
    "editable": true
   },
   "outputs": [],
   "source": [
    "class GridWorld:\n",
    "    \n",
    "    def __init__(self):\n",
    "        self.moves = [  np.array([0, -1]),\n",
    "                        np.array([0, 1]),\n",
    "                        np.array([1, 0]),\n",
    "                        np.array([-1, 0]) \n",
    "                     ]\n",
    "        \n",
    "        self.A = np.array([0, 1])\n",
    "        self.A_STATE = np.array([4, 1])\n",
    "        self.A_REWARD = 10\n",
    "        self.B = np.array([0, 3])\n",
    "        self.B_STATE = np.array([2, 3])\n",
    "        self.B_REWARD = 5\n",
    "    \n",
    "    def get_reward(self, state, action):\n",
    "        if (state==self.A).all():\n",
    "            return self.A_STATE, self.A_REWARD\n",
    "        if (state==self.B).all():\n",
    "            return self.B_STATE, self.B_REWARD\n",
    "        \n",
    "        next_state = state + action\n",
    "        \n",
    "        if next_state[0] < 0 or next_state[0] > 4 or next_state[1] < 0 or next_state[1] > 4:\n",
    "            next_state = state\n",
    "            reward = -1\n",
    "        \n",
    "        else:\n",
    "            reward = 0\n",
    "            \n",
    "        return next_state, reward   \n",
    "        \n",
    "            \n",
    "class Agent:\n",
    "    \n",
    "    def __init__(self):\n",
    "        self.value = np.zeros((5,5))"
   ]
  },
  {
   "cell_type": "code",
   "execution_count": 3,
   "metadata": {
    "collapsed": false,
    "deletable": true,
    "editable": true
   },
   "outputs": [],
   "source": [
    "grid = GridWorld()\n",
    "\n",
    "estimated_value = np.zeros((5,5))\n",
    "discount = 0.9\n",
    "runs = 2000\n",
    "\n",
    "for k in range(runs):\n",
    "    \n",
    "    agent = Agent()\n",
    "\n",
    "    for i in range(5):\n",
    "        for j in range(5):\n",
    "\n",
    "            state = np.array([i, j])\n",
    "\n",
    "            for action in grid.moves:\n",
    "                \n",
    "                next_state, reward = grid.get_reward(state, action)\n",
    "                new_i, new_j = next_state[0], next_state[1] \n",
    "                \n",
    "                agent.value[i, j] += 0.25* (reward + discount*estimated_value[new_i, new_j])\n",
    "                \n",
    "    estimated_value = agent.value\n"
   ]
  },
  {
   "cell_type": "code",
   "execution_count": 4,
   "metadata": {
    "collapsed": false,
    "deletable": true,
    "editable": true
   },
   "outputs": [
    {
     "data": {
      "text/plain": [
       "[<matplotlib.axis.YTick at 0x7f7c344d7710>]"
      ]
     },
     "execution_count": 4,
     "metadata": {},
     "output_type": "execute_result"
    },
    {
     "data": {
      "image/png": "[encoded data removed]",
      "text/plain": [
       "<matplotlib.figure.Figure at 0x7f7c68309a50>"
      ]
     },
     "metadata": {},
     "output_type": "display_data"
    }
   ],
   "source": [
    "ax = sns.heatmap(estimated_value, annot=True, fmt=\".2f\")\n",
    "ax.set_xticks([''])\n",
    "ax.set_yticks([''])"
   ]
  },
  {
   "cell_type": "code",
   "execution_count": null,
   "metadata": {
    "collapsed": false,
    "deletable": true,
    "editable": true
   },
   "outputs": [],
   "source": []
  },
  {
   "cell_type": "code",
   "execution_count": null,
   "metadata": {
    "collapsed": true,
    "deletable": true,
    "editable": true
   },
   "outputs": [],
   "source": []
  }
 ],
 "metadata": {
  "kernelspec": {
   "display_name": "Python 2",
   "language": "python",
   "name": "python2"
  },
  "language_info": {
   "codemirror_mode": {
    "name": "ipython",
    "version": 2
   },
   "file_extension": ".py",
   "mimetype": "text/x-python",
   "name": "python",
   "nbconvert_exporter": "python",
   "pygments_lexer": "ipython2",
   "version": "2.7.15rc1"
  }
 },
 "nbformat": 4,
 "nbformat_minor": 2
}
